{
 "cells": [
  {
   "cell_type": "code",
   "execution_count": 49,
   "metadata": {},
   "outputs": [],
   "source": [
    "import numpy as np\n",
    "import pandas as pd\n",
    "import matplotlib \n",
    "from scipy.stats import chi2_contingency\n",
    "from IPython.display import HTML"
   ]
  },
  {
   "cell_type": "code",
   "execution_count": 37,
   "metadata": {},
   "outputs": [],
   "source": [
    "X = pd.Series([1,23,4,2,3,1,5])\n",
    "Y = pd.Series([2,4,1,2,4,6,3])\n",
    "\n",
    "df = pd.DataFrame(data={\n",
    "    'X': X,\n",
    "    'Y': Y\n",
    "}\n",
    ")\n"
   ]
  },
  {
   "cell_type": "code",
   "execution_count": 36,
   "metadata": {},
   "outputs": [
    {
     "name": "stdout",
     "output_type": "stream",
     "text": [
      "Mittelwert von X: 5.57\n",
      "Varianz von X: 61.29\n",
      "Median von X: 3.0\n",
      "Kovarianz von X und Y: 2.07\n",
      "Korrelation von X und Y: 0.16\n"
     ]
    }
   ],
   "source": [
    "print(\"Mittelwert von X: {}\".format(X.mean().round(2)))\n",
    "print(\"Varianz von X: {}\".format(X.var().round(2)))\n",
    "print(\"Median von X: {}\".format(X.median().round(2)))\n",
    "print(\"Kovarianz von X und Y: {}\".format(df.cov().loc['X','Y'].round(2)))\n",
    "print(\"Korrelation von X und Y: {}\".format(df.corr().loc['X','Y'].round(2)))\n"
   ]
  },
  {
   "cell_type": "code",
   "execution_count": 29,
   "metadata": {},
   "outputs": [
    {
     "data": {
      "image/png": "[encoded data removed]",
      "text/plain": [
       "<Figure size 640x480 with 1 Axes>"
      ]
     },
     "metadata": {},
     "output_type": "display_data"
    }
   ],
   "source": [
    "ax = df.boxplot()"
   ]
  },
  {
   "cell_type": "code",
   "execution_count": 50,
   "metadata": {},
   "outputs": [
    {
     "data": {
      "text/html": [
       "<table border=\"1\" class=\"dataframe\">\n",
       "  <thead>\n",
       "    <tr style=\"text-align: right;\">\n",
       "      <th></th>\n",
       "      <th>X</th>\n",
       "      <th>Y</th>\n",
       "    </tr>\n",
       "  </thead>\n",
       "  <tbody>\n",
       "    <tr>\n",
       "      <th>0</th>\n",
       "      <td>1</td>\n",
       "      <td>2</td>\n",
       "    </tr>\n",
       "    <tr>\n",
       "      <th>1</th>\n",
       "      <td>23</td>\n",
       "      <td>4</td>\n",
       "    </tr>\n",
       "    <tr>\n",
       "      <th>2</th>\n",
       "      <td>4</td>\n",
       "      <td>1</td>\n",
       "    </tr>\n",
       "    <tr>\n",
       "      <th>3</th>\n",
       "      <td>2</td>\n",
       "      <td>2</td>\n",
       "    </tr>\n",
       "    <tr>\n",
       "      <th>4</th>\n",
       "      <td>3</td>\n",
       "      <td>4</td>\n",
       "    </tr>\n",
       "    <tr>\n",
       "      <th>5</th>\n",
       "      <td>1</td>\n",
       "      <td>6</td>\n",
       "    </tr>\n",
       "    <tr>\n",
       "      <th>6</th>\n",
       "      <td>5</td>\n",
       "      <td>3</td>\n",
       "    </tr>\n",
       "  </tbody>\n",
       "</table>"
      ],
      "text/plain": [
       "<IPython.core.display.HTML object>"
      ]
     },
     "execution_count": 50,
     "metadata": {},
     "output_type": "execute_result"
    }
   ],
   "source": [
    "HTML(df.to_html())"
   ]
  },
  {
   "cell_type": "code",
   "execution_count": 54,
   "metadata": {},
   "outputs": [],
   "source": [
    "from flask import Flask, request, jsonify\n"
   ]
  },
  {
   "cell_type": "code",
   "execution_count": 55,
   "metadata": {},
   "outputs": [],
   "source": [
    "\n"
   ]
  },
  {
   "cell_type": "code",
   "execution_count": 57,
   "metadata": {},
   "outputs": [
    {
     "name": "stdout",
     "output_type": "stream",
     "text": [
      " * Serving Flask app '__main__'\n",
      " * Debug mode: on\n"
     ]
    },
    {
     "name": "stderr",
     "output_type": "stream",
     "text": [
      "\u001b[31m\u001b[1mWARNING: This is a development server. Do not use it in a production deployment. Use a production WSGI server instead.\u001b[0m\n",
      " * Running on http://127.0.0.1:5000\n",
      "\u001b[33mPress CTRL+C to quit\u001b[0m\n",
      " * Restarting with stat\n",
      "Traceback (most recent call last):\n",
      "  File \"<frozen runpy>\", line 198, in _run_module_as_main\n",
      "  File \"<frozen runpy>\", line 88, in _run_code\n",
      "  File \"/home/marin/Uni/venv/lib64/python3.12/site-packages/ipykernel_launcher.py\", line 18, in <module>\n",
      "    app.launch_new_instance()\n",
      "  File \"/home/marin/Uni/venv/lib64/python3.12/site-packages/traitlets/config/application.py\", line 1074, in launch_instance\n",
      "    app.initialize(argv)\n",
      "  File \"/home/marin/Uni/venv/lib64/python3.12/site-packages/traitlets/config/application.py\", line 118, in inner\n",
      "    return method(app, *args, **kwargs)\n",
      "           ^^^^^^^^^^^^^^^^^^^^^^^^^^^^\n",
      "  File \"/home/marin/Uni/venv/lib64/python3.12/site-packages/ipykernel/kernelapp.py\", line 692, in initialize\n",
      "    self.init_sockets()\n",
      "  File \"/home/marin/Uni/venv/lib64/python3.12/site-packages/ipykernel/kernelapp.py\", line 331, in init_sockets\n",
      "    self.shell_port = self._bind_socket(self.shell_socket, self.shell_port)\n",
      "                      ^^^^^^^^^^^^^^^^^^^^^^^^^^^^^^^^^^^^^^^^^^^^^^^^^^^^^\n",
      "  File \"/home/marin/Uni/venv/lib64/python3.12/site-packages/ipykernel/kernelapp.py\", line 253, in _bind_socket\n",
      "    return self._try_bind_socket(s, port)\n",
      "           ^^^^^^^^^^^^^^^^^^^^^^^^^^^^^^\n",
      "  File \"/home/marin/Uni/venv/lib64/python3.12/site-packages/ipykernel/kernelapp.py\", line 229, in _try_bind_socket\n",
      "    s.bind(\"tcp://%s:%i\" % (self.ip, port))\n",
      "  File \"/home/marin/Uni/venv/lib64/python3.12/site-packages/zmq/sugar/socket.py\", line 311, in bind\n",
      "    super().bind(addr)\n",
      "  File \"_zmq.py\", line 917, in zmq.backend.cython._zmq.Socket.bind\n",
      "  File \"_zmq.py\", line 179, in zmq.backend.cython._zmq._check_rc\n",
      "zmq.error.ZMQError: Address already in use (addr='tcp://127.0.0.1:9015')\n"
     ]
    },
    {
     "ename": "SystemExit",
     "evalue": "1",
     "output_type": "error",
     "traceback": [
      "An exception has occurred, use %tb to see the full traceback.\n",
      "\u001b[0;31mSystemExit\u001b[0m\u001b[0;31m:\u001b[0m 1\n"
     ]
    }
   ],
   "source": []
  },
  {
   "cell_type": "code",
   "execution_count": 39,
   "metadata": {},
   "outputs": [
    {
     "data": {
      "image/png": "[encoded data removed]",
      "text/plain": [
       "<Figure size 640x480 with 1 Axes>"
      ]
     },
     "metadata": {},
     "output_type": "display_data"
    }
   ],
   "source": [
    "ax = df.plot()"
   ]
  },
  {
   "cell_type": "code",
   "execution_count": 60,
   "metadata": {},
   "outputs": [],
   "source": [
    "df = pd.DataFrame(columns=['X1','X2'], index=['Y1','Y2'])\n",
    "\n",
    "df = pd.DataFrame({\n",
    "    'X1': [1, 2],\n",
    "    'X2': [3, 4]\n",
    "}, index=['Y1', 'Y2'])"
   ]
  },
  {
   "cell_type": "code",
   "execution_count": 80,
   "metadata": {},
   "outputs": [],
   "source": [
    "# define chi2 and cramer v\n",
    "def compute_chi2(df):\n",
    "    \"\"\"\n",
    "    Compute the Chi-squared statistic manually for a given contingency table.\n",
    "    \n",
    "    Parameters:\n",
    "    df (pd.DataFrame): A pandas DataFrame containing the contingency table data.\n",
    "    \n",
    "    Returns:\n",
    "    float: The Chi-squared statistic.\n",
    "    \"\"\"\n",
    "    # Step 1: Calculate the observed frequencies\n",
    "    observed = df.values\n",
    "    \n",
    "    # Step 2: Calculate totals\n",
    "    row_sums = observed.sum(axis=1)  # Sum of each row\n",
    "    column_sums = observed.sum(axis=0)  # Sum of each column\n",
    "    grand_total = observed.sum()  # Total sum of all observations\n",
    "    \n",
    "    # Step 3: Calculate expected frequencies\n",
    "    expected = pd.DataFrame(0, index=df.index, columns=df.columns)  # Create an empty DataFrame for expected frequencies\n",
    "    for i in range(len(row_sums)):\n",
    "        for j in range(len(column_sums)):\n",
    "            expected.iloc[i, j] = (row_sums[i] * column_sums[j]) / grand_total\n",
    "            \n",
    "    # Step 4: Calculate the Chi-squared statistic\n",
    "    chi2_statistic = ((observed - expected.values) ** 2 / expected.values).sum()  # Using numpy broadcasting\n",
    "    \n",
    "    return chi2_statistic\n",
    "\n",
    "def compute_cramers_v(df):\n",
    "    \"\"\"\n",
    "    Compute Cramér's V statistic for a given contingency table.\n",
    "    \n",
    "    Parameters:\n",
    "    df (pd.DataFrame): A pandas DataFrame containing the contingency table data.\n",
    "    \n",
    "    Returns:\n",
    "    float: Cramér's V statistic.\n",
    "    \"\"\"\n",
    "    # Step 1: Compute the Chi-squared statistic using the previously defined function\n",
    "    chi2_statistic = compute_chi2(df)  # Assume compute_chi2 is defined as in previous messages\n",
    "    \n",
    "    # Step 2: Calculate total observations\n",
    "    n = df.values.sum()\n",
    "    \n",
    "    # Step 3: Calculate the number of categories\n",
    "    k = df.shape[0]  # Number of rows (categories for one variable)\n",
    "    r = df.shape[1]  # Number of columns (categories for another variable)\n",
    "    \n",
    "    # Step 4: Calculate Cramér's V\n",
    "    min_k_r = min(k - 1, r - 1)\n",
    "    if min_k_r == 0:  # Avoid division by zero if there's only one category in either variable\n",
    "        return 0.0\n",
    "    \n",
    "    cramers_v = (chi2_statistic / (n * min_k_r)) ** 0.5\n",
    "    return cramers_v\n"
   ]
  },
  {
   "cell_type": "code",
   "execution_count": 71,
   "metadata": {},
   "outputs": [
    {
     "name": "stdout",
     "output_type": "stream",
     "text": [
      "       X1  X2  Total\n",
      "Y1      1   3      4\n",
      "Y2      2   4      6\n",
      "Total   3   7     10\n"
     ]
    }
   ],
   "source": [
    "# Adding a 'Total' column\n",
    "df.loc[:, 'Total'] = df.sum(axis=1)\n",
    "\n",
    "# Adding a 'Total' row\n",
    "df.loc['Total'] = df.sum()\n",
    "\n",
    "print(df)"
   ]
  },
  {
   "cell_type": "code",
   "execution_count": 72,
   "metadata": {},
   "outputs": [],
   "source": [
    "f11 = df.loc['Y1','X1']\n",
    "f21 = df.loc['Y2','X1']\n",
    "f12 = df.loc['Y1','X2']\n",
    "f22 = df.loc['Y2','X2']"
   ]
  },
  {
   "cell_type": "code",
   "execution_count": 73,
   "metadata": {},
   "outputs": [
    {
     "name": "stdout",
     "output_type": "stream",
     "text": [
      "OddsRatio: 0.6666666666666666, YulesQ: -0.20000000000000004\n"
     ]
    }
   ],
   "source": [
    "OddsRatio = f11 * f22 / (f21 * f12)\n",
    "YulesQ = (OddsRatio - 1)/(OddsRatio + 1)\n",
    "\n",
    "print(\"OddsRatio: {}, YulesQ: {}\".format(OddsRatio, YulesQ))"
   ]
  },
  {
   "cell_type": "code",
   "execution_count": 74,
   "metadata": {},
   "outputs": [
    {
     "name": "stdout",
     "output_type": "stream",
     "text": [
      "             X1        X2  Total\n",
      "Y1     0.333333  0.428571    0.4\n",
      "Y2     0.666667  0.571429    0.6\n",
      "Total  1.000000  1.000000    1.0\n"
     ]
    }
   ],
   "source": [
    "df2 = df.copy()\n",
    "\n",
    "df2['X1'] = df2['X1']/df2.loc['Total','X1']\n",
    "df2['X2'] = df2['X2']/df2.loc['Total','X2']\n",
    "df2['Total'] = df2['Total']/df2.loc['Total','Total']\n",
    "\n",
    "print(df2)"
   ]
  },
  {
   "cell_type": "code",
   "execution_count": 75,
   "metadata": {},
   "outputs": [
    {
     "name": "stdout",
     "output_type": "stream",
     "text": [
      "Prozentsatzdifferenz d = -0.09523809523809523\n"
     ]
    }
   ],
   "source": [
    "prozentsatzdifferenz = df2.loc['Y1','X1'] - df2.loc['Y1','X2']\n",
    "\n",
    "print(\"Prozentsatzdifferenz d = {}\".format(prozentsatzdifferenz))"
   ]
  },
  {
   "cell_type": "code",
   "execution_count": 86,
   "metadata": {},
   "outputs": [
    {
     "name": "stdout",
     "output_type": "stream",
     "text": [
      "Chi-squared statistic: 0.01923076923076923, Cramer's V statistic: 0.09805806756909201\n"
     ]
    },
    {
     "name": "stderr",
     "output_type": "stream",
     "text": [
      "/tmp/ipykernel_842629/2568317127.py:24: FutureWarning: Setting an item of incompatible dtype is deprecated and will raise an error in a future version of pandas. Value '0.38095238095238093' has dtype incompatible with int64, please explicitly cast to a compatible dtype first.\n",
      "  expected.iloc[i, j] = (row_sums[i] * column_sums[j]) / grand_total\n",
      "/tmp/ipykernel_842629/2568317127.py:24: FutureWarning: Setting an item of incompatible dtype is deprecated and will raise an error in a future version of pandas. Value '0.38095238095238093' has dtype incompatible with int64, please explicitly cast to a compatible dtype first.\n",
      "  expected.iloc[i, j] = (row_sums[i] * column_sums[j]) / grand_total\n",
      "/tmp/ipykernel_842629/2568317127.py:24: FutureWarning: Setting an item of incompatible dtype is deprecated and will raise an error in a future version of pandas. Value '0.38095238095238093' has dtype incompatible with int64, please explicitly cast to a compatible dtype first.\n",
      "  expected.iloc[i, j] = (row_sums[i] * column_sums[j]) / grand_total\n",
      "/tmp/ipykernel_842629/2568317127.py:24: FutureWarning: Setting an item of incompatible dtype is deprecated and will raise an error in a future version of pandas. Value '0.38095238095238093' has dtype incompatible with int64, please explicitly cast to a compatible dtype first.\n",
      "  expected.iloc[i, j] = (row_sums[i] * column_sums[j]) / grand_total\n"
     ]
    }
   ],
   "source": [
    "# Drop the row and column labeled 'Total'\n",
    "df2_truncated = df2.drop(index='Total', columns='Total')\n",
    "# Call the function to compute chi-squared\n",
    "chisq_value = compute_chi2(df2_truncated)\n",
    "CramerV = compute_cramers_v(df2_truncated)\n",
    "print(\"Chi-squared statistic: {}, Cramer's V statistic: {}\".format(chisq_value,CramerV))"
   ]
  }
 ],
 "metadata": {
  "kernelspec": {
   "display_name": "venv",
   "language": "python",
   "name": "python3"
  },
  "language_info": {
   "codemirror_mode": {
    "name": "ipython",
    "version": 3
   },
   "file_extension": ".py",
   "mimetype": "text/x-python",
   "name": "python",
   "nbconvert_exporter": "python",
   "pygments_lexer": "ipython3",
   "version": "3.12.7"
  }
 },
 "nbformat": 4,
 "nbformat_minor": 2
}
